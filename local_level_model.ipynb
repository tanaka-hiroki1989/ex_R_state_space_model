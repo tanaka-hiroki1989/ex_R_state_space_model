{
 "cells": [
  {
   "cell_type": "markdown",
   "metadata": {},
   "source": [
    "季節もの商品の四半期ごとの販売数データ"
   ]
  },
  {
   "cell_type": "code",
   "execution_count": 1,
   "metadata": {
    "vscode": {
     "languageId": "r"
    }
   },
   "outputs": [
    {
     "name": "stdout",
     "output_type": "stream",
     "text": [
      "\n",
      "The downloaded binary packages are in\n",
      "\t/var/folders/qr/y9jw5mv175zf8hcs038xchyc0000gn/T//Rtmp1iI5Fb/downloaded_packages\n"
     ]
    }
   ],
   "source": [
    "install.packages(\"dlm\")\n",
    "library(dlm)"
   ]
  },
  {
   "cell_type": "code",
   "execution_count": 2,
   "metadata": {
    "vscode": {
     "languageId": "r"
    }
   },
   "outputs": [],
   "source": [
    "data.url<-\"https://raw.githubusercontent.com/iwanami-datascience/vol1/master/matsuura/example2/input/data-season.txt\"\n",
    "data<-read.csv(url(data.url))\n",
    "Y<-data$Y"
   ]
  },
  {
   "cell_type": "code",
   "execution_count": 3,
   "metadata": {
    "vscode": {
     "languageId": "r"
    }
   },
   "outputs": [],
   "source": [
    "dlm.mod1<-dlmModPoly(order=1,dV=1,dW=1,m0=0,C0=1e+07)\n",
    "dlm.flt1<-dlmFilter(Y,dlm.mod1)"
   ]
  },
  {
   "cell_type": "code",
   "execution_count": 4,
   "metadata": {
    "vscode": {
     "languageId": "r"
    }
   },
   "outputs": [
    {
     "data": {
      "text/html": [
       "<style>\n",
       ".list-inline {list-style: none; margin:0; padding: 0}\n",
       ".list-inline>li {display: inline-block}\n",
       ".list-inline>li:not(:last-child)::after {content: \"\\00b7\"; padding: 0 .5ex}\n",
       "</style>\n",
       "<ol class=list-inline><li>18.0729981927004</li><li>21.8009993354334</li><li>18.431624759211</li><li>16.2645713376361</li><li>16.7847272379787</li><li>20.1427916533684</li></ol>\n"
      ],
      "text/latex": [
       "\\begin{enumerate*}\n",
       "\\item 18.0729981927004\n",
       "\\item 21.8009993354334\n",
       "\\item 18.431624759211\n",
       "\\item 16.2645713376361\n",
       "\\item 16.7847272379787\n",
       "\\item 20.1427916533684\n",
       "\\end{enumerate*}\n"
      ],
      "text/markdown": [
       "1. 18.0729981927004\n",
       "2. 21.8009993354334\n",
       "3. 18.431624759211\n",
       "4. 16.2645713376361\n",
       "5. 16.7847272379787\n",
       "6. 20.1427916533684\n",
       "\n",
       "\n"
      ],
      "text/plain": [
       "[1] 18.07300 21.80100 18.43162 16.26457 16.78473 20.14279"
      ]
     },
     "metadata": {},
     "output_type": "display_data"
    }
   ],
   "source": [
    "head(dropFirst(dlm.flt1$m))"
   ]
  },
  {
   "cell_type": "code",
   "execution_count": 5,
   "metadata": {
    "vscode": {
     "languageId": "r"
    }
   },
   "outputs": [],
   "source": [
    "#TODO 観測値とフィルタリングした値とを重ねて図示 #3"
   ]
  },
  {
   "cell_type": "code",
   "execution_count": 6,
   "metadata": {
    "vscode": {
     "languageId": "r"
    }
   },
   "outputs": [],
   "source": [
    "dlm.mod2<-dlmModPoly(order=1,dV=1,dW=5,m0=0,C0=1e+07)\n",
    "dlm.flt2<-dlmFilter(Y,dlm.mod2)"
   ]
  },
  {
   "cell_type": "code",
   "execution_count": 7,
   "metadata": {
    "vscode": {
     "languageId": "r"
    }
   },
   "outputs": [],
   "source": [
    "dlm.build3<-function(par){\n",
    "    dlmModPoly(order=1,dV=exp(par[1]),dW=exp(par[2]))\n",
    "}"
   ]
  },
  {
   "cell_type": "code",
   "execution_count": 8,
   "metadata": {
    "vscode": {
     "languageId": "r"
    }
   },
   "outputs": [],
   "source": [
    "dlm.mle3<-dlmMLE(Y,parm=c(0,0),build=dlm.build3)\n",
    "dlm.mod3<-dlm.build3(dlm.mle3$par)"
   ]
  },
  {
   "cell_type": "code",
   "execution_count": 9,
   "metadata": {
    "vscode": {
     "languageId": "r"
    }
   },
   "outputs": [
    {
     "data": {
      "text/html": [
       "<table class=\"dataframe\">\n",
       "<caption>A matrix: 1 × 1 of type dbl</caption>\n",
       "<tbody>\n",
       "\t<tr><td>17.23128</td></tr>\n",
       "</tbody>\n",
       "</table>\n"
      ],
      "text/latex": [
       "A matrix: 1 × 1 of type dbl\n",
       "\\begin{tabular}{l}\n",
       "\t 17.23128\\\\\n",
       "\\end{tabular}\n"
      ],
      "text/markdown": [
       "\n",
       "A matrix: 1 × 1 of type dbl\n",
       "\n",
       "| 17.23128 |\n",
       "\n"
      ],
      "text/plain": [
       "     [,1]    \n",
       "[1,] 17.23128"
      ]
     },
     "metadata": {},
     "output_type": "display_data"
    }
   ],
   "source": [
    "V(dlm.mod3)"
   ]
  },
  {
   "cell_type": "code",
   "execution_count": 10,
   "metadata": {
    "vscode": {
     "languageId": "r"
    }
   },
   "outputs": [
    {
     "data": {
      "text/html": [
       "<table class=\"dataframe\">\n",
       "<caption>A matrix: 1 × 1 of type dbl</caption>\n",
       "<tbody>\n",
       "\t<tr><td>0.7410732</td></tr>\n",
       "</tbody>\n",
       "</table>\n"
      ],
      "text/latex": [
       "A matrix: 1 × 1 of type dbl\n",
       "\\begin{tabular}{l}\n",
       "\t 0.7410732\\\\\n",
       "\\end{tabular}\n"
      ],
      "text/markdown": [
       "\n",
       "A matrix: 1 × 1 of type dbl\n",
       "\n",
       "| 0.7410732 |\n",
       "\n"
      ],
      "text/plain": [
       "     [,1]     \n",
       "[1,] 0.7410732"
      ]
     },
     "metadata": {},
     "output_type": "display_data"
    }
   ],
   "source": [
    "W(dlm.mod3)"
   ]
  },
  {
   "cell_type": "code",
   "execution_count": 11,
   "metadata": {
    "vscode": {
     "languageId": "r"
    }
   },
   "outputs": [],
   "source": [
    "dlm.flt3<-dlmFilter(Y,dlm.mod3)\n",
    "dlm.smt3<-dlmSmooth(Y,dlm.mod3)"
   ]
  },
  {
   "cell_type": "code",
   "execution_count": 12,
   "metadata": {
    "vscode": {
     "languageId": "r"
    }
   },
   "outputs": [
    {
     "data": {
      "text/html": [
       "<style>\n",
       ".list-inline {list-style: none; margin:0; padding: 0}\n",
       ".list-inline>li {display: inline-block}\n",
       ".list-inline>li:not(:last-child)::after {content: \"\\00b7\"; padding: 0 .5ex}\n",
       "</style>\n",
       "<ol class=list-inline><li>17.6967408705787</li><li>17.6967421820367</li><li>17.6805616078871</li><li>17.4070056574315</li><li>17.1763283681713</li><li>17.0422169044447</li><li>16.90536229305</li><li>16.5400247331455</li><li>16.3604803786337</li><li>16.2332537312658</li><li>16.1237570615945</li><li>15.8515958049108</li><li>15.776477255848</li><li>15.7852437407362</li><li>15.8485111350286</li><li>15.7293199431426</li><li>15.8185135589828</li><li>15.9547363938238</li><li>16.1329661607176</li><li>16.0849323293548</li><li>16.3067672749339</li><li>16.6046293658851</li><li>16.8980027430305</li><li>16.9888111947836</li><li>17.2528885030914</li><li>17.6537246760528</li><li>18.0676662772983</li><li>18.2840173456854</li><li>18.6026408528723</li><li>19.0495831156306</li><li>19.5366333909702</li><li>19.7368512806702</li><li>20.0914594846666</li><li>20.5570036382096</li><li>21.0605235179233</li><li>21.1693866340463</li><li>21.4453932909445</li><li>21.8316019240833</li><li>22.2488448088236</li><li>22.3061517521175</li><li>22.4979494874008</li><li>22.7828991657495</li><li>23.0465558245739</li><li>22.9297925719417</li><li>22.9271621446623</li></ol>\n"
      ],
      "text/latex": [
       "\\begin{enumerate*}\n",
       "\\item 17.6967408705787\n",
       "\\item 17.6967421820367\n",
       "\\item 17.6805616078871\n",
       "\\item 17.4070056574315\n",
       "\\item 17.1763283681713\n",
       "\\item 17.0422169044447\n",
       "\\item 16.90536229305\n",
       "\\item 16.5400247331455\n",
       "\\item 16.3604803786337\n",
       "\\item 16.2332537312658\n",
       "\\item 16.1237570615945\n",
       "\\item 15.8515958049108\n",
       "\\item 15.776477255848\n",
       "\\item 15.7852437407362\n",
       "\\item 15.8485111350286\n",
       "\\item 15.7293199431426\n",
       "\\item 15.8185135589828\n",
       "\\item 15.9547363938238\n",
       "\\item 16.1329661607176\n",
       "\\item 16.0849323293548\n",
       "\\item 16.3067672749339\n",
       "\\item 16.6046293658851\n",
       "\\item 16.8980027430305\n",
       "\\item 16.9888111947836\n",
       "\\item 17.2528885030914\n",
       "\\item 17.6537246760528\n",
       "\\item 18.0676662772983\n",
       "\\item 18.2840173456854\n",
       "\\item 18.6026408528723\n",
       "\\item 19.0495831156306\n",
       "\\item 19.5366333909702\n",
       "\\item 19.7368512806702\n",
       "\\item 20.0914594846666\n",
       "\\item 20.5570036382096\n",
       "\\item 21.0605235179233\n",
       "\\item 21.1693866340463\n",
       "\\item 21.4453932909445\n",
       "\\item 21.8316019240833\n",
       "\\item 22.2488448088236\n",
       "\\item 22.3061517521175\n",
       "\\item 22.4979494874008\n",
       "\\item 22.7828991657495\n",
       "\\item 23.0465558245739\n",
       "\\item 22.9297925719417\n",
       "\\item 22.9271621446623\n",
       "\\end{enumerate*}\n"
      ],
      "text/markdown": [
       "1. 17.6967408705787\n",
       "2. 17.6967421820367\n",
       "3. 17.6805616078871\n",
       "4. 17.4070056574315\n",
       "5. 17.1763283681713\n",
       "6. 17.0422169044447\n",
       "7. 16.90536229305\n",
       "8. 16.5400247331455\n",
       "9. 16.3604803786337\n",
       "10. 16.2332537312658\n",
       "11. 16.1237570615945\n",
       "12. 15.8515958049108\n",
       "13. 15.776477255848\n",
       "14. 15.7852437407362\n",
       "15. 15.8485111350286\n",
       "16. 15.7293199431426\n",
       "17. 15.8185135589828\n",
       "18. 15.9547363938238\n",
       "19. 16.1329661607176\n",
       "20. 16.0849323293548\n",
       "21. 16.3067672749339\n",
       "22. 16.6046293658851\n",
       "23. 16.8980027430305\n",
       "24. 16.9888111947836\n",
       "25. 17.2528885030914\n",
       "26. 17.6537246760528\n",
       "27. 18.0676662772983\n",
       "28. 18.2840173456854\n",
       "29. 18.6026408528723\n",
       "30. 19.0495831156306\n",
       "31. 19.5366333909702\n",
       "32. 19.7368512806702\n",
       "33. 20.0914594846666\n",
       "34. 20.5570036382096\n",
       "35. 21.0605235179233\n",
       "36. 21.1693866340463\n",
       "37. 21.4453932909445\n",
       "38. 21.8316019240833\n",
       "39. 22.2488448088236\n",
       "40. 22.3061517521175\n",
       "41. 22.4979494874008\n",
       "42. 22.7828991657495\n",
       "43. 23.0465558245739\n",
       "44. 22.9297925719417\n",
       "45. 22.9271621446623\n",
       "\n",
       "\n"
      ],
      "text/plain": [
       " [1] 17.69674 17.69674 17.68056 17.40701 17.17633 17.04222 16.90536 16.54002\n",
       " [9] 16.36048 16.23325 16.12376 15.85160 15.77648 15.78524 15.84851 15.72932\n",
       "[17] 15.81851 15.95474 16.13297 16.08493 16.30677 16.60463 16.89800 16.98881\n",
       "[25] 17.25289 17.65372 18.06767 18.28402 18.60264 19.04958 19.53663 19.73685\n",
       "[33] 20.09146 20.55700 21.06052 21.16939 21.44539 21.83160 22.24884 22.30615\n",
       "[41] 22.49795 22.78290 23.04656 22.92979 22.92716"
      ]
     },
     "metadata": {},
     "output_type": "display_data"
    }
   ],
   "source": [
    "dlm.smt3$s"
   ]
  },
  {
   "cell_type": "code",
   "execution_count": 13,
   "metadata": {
    "vscode": {
     "languageId": "r"
    }
   },
   "outputs": [],
   "source": [
    "#TODO フィルタリングした値, 平滑化した値を図示 #4"
   ]
  },
  {
   "cell_type": "code",
   "execution_count": 14,
   "metadata": {
    "vscode": {
     "languageId": "r"
    }
   },
   "outputs": [
    {
     "data": {
      "text/html": [
       "95.7552459222854"
      ],
      "text/latex": [
       "95.7552459222854"
      ],
      "text/markdown": [
       "95.7552459222854"
      ],
      "text/plain": [
       "[1] 95.75525"
      ]
     },
     "metadata": {},
     "output_type": "display_data"
    }
   ],
   "source": [
    "dlmLL(Y,dlm.mod3)"
   ]
  },
  {
   "cell_type": "code",
   "execution_count": 15,
   "metadata": {
    "vscode": {
     "languageId": "r"
    }
   },
   "outputs": [],
   "source": [
    "#TODO ２階差分のモデルでパラメータを最尤推定する #5"
   ]
  }
 ],
 "metadata": {
  "kernelspec": {
   "display_name": "R",
   "language": "R",
   "name": "ir"
  },
  "language_info": {
   "codemirror_mode": "r",
   "file_extension": ".r",
   "mimetype": "text/x-r-source",
   "name": "R",
   "pygments_lexer": "r",
   "version": "4.2.1"
  },
  "orig_nbformat": 4
 },
 "nbformat": 4,
 "nbformat_minor": 2
}
