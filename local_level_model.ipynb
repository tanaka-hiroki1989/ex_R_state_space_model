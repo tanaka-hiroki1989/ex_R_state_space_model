{
 "cells": [
  {
   "cell_type": "markdown",
   "metadata": {},
   "source": [
    "季節もの商品の四半期ごとの販売数データ"
   ]
  },
  {
   "cell_type": "code",
   "execution_count": 1,
   "metadata": {
    "vscode": {
     "languageId": "r"
    }
   },
   "outputs": [],
   "source": [
    "data.url<-\"https://raw.githubusercontent.com/iwanami-datascience/vol1/master/matsuura/example2/input/data-season.txt\"\n",
    "data<-read.csv(url(data.url))\n",
    "Y<-data$Y"
   ]
  },
  {
   "cell_type": "code",
   "execution_count": 2,
   "metadata": {
    "vscode": {
     "languageId": "r"
    }
   },
   "outputs": [
    {
     "ename": "ERROR",
     "evalue": "Error in dlmModPoly(order = 1, dv = 1, dW = 1, m0 = 0, C0 = 1e+07): could not find function \"dlmModPoly\"\n",
     "output_type": "error",
     "traceback": [
      "Error in dlmModPoly(order = 1, dv = 1, dW = 1, m0 = 0, C0 = 1e+07): could not find function \"dlmModPoly\"\nTraceback:\n"
     ]
    }
   ],
   "source": [
    "dlm.mod1<-dlmModPoly(order=1,dv=1,dW=1,m0=0,C0=1e+07)\n",
    "dlm.flt1<-dlmFilter(Y,dlm.mod1)"
   ]
  }
 ],
 "metadata": {
  "kernelspec": {
   "display_name": "R",
   "language": "R",
   "name": "ir"
  },
  "language_info": {
   "codemirror_mode": "r",
   "file_extension": ".r",
   "mimetype": "text/x-r-source",
   "name": "R",
   "pygments_lexer": "r",
   "version": "4.2.1"
  },
  "orig_nbformat": 4
 },
 "nbformat": 4,
 "nbformat_minor": 2
}
