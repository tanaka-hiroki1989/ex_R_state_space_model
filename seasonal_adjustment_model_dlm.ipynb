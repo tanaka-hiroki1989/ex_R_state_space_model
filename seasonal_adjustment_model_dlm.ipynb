{
 "cells": [
  {
   "cell_type": "code",
   "execution_count": 1,
   "metadata": {
    "vscode": {
     "languageId": "r"
    }
   },
   "outputs": [
    {
     "name": "stdout",
     "output_type": "stream",
     "text": [
      "\n",
      "The downloaded binary packages are in\n",
      "\t/var/folders/qr/y9jw5mv175zf8hcs038xchyc0000gn/T//RtmpapXMaz/downloaded_packages\n"
     ]
    }
   ],
   "source": [
    "install.packages(\"dlm\")\n",
    "library(dlm)"
   ]
  },
  {
   "cell_type": "code",
   "execution_count": 2,
   "metadata": {
    "vscode": {
     "languageId": "r"
    }
   },
   "outputs": [],
   "source": [
    "data.url<-\"https://raw.githubusercontent.com/iwanami-datascience/vol1/master/matsuura/example2/input/data-season.txt\"\n",
    "data<-read.csv(url(data.url))\n",
    "Y<-data$Y"
   ]
  },
  {
   "cell_type": "code",
   "execution_count": 3,
   "metadata": {
    "vscode": {
     "languageId": "r"
    }
   },
   "outputs": [],
   "source": [
    "dlm.build4 <- function(par){\n",
    "    mod <- dlmModPoly(order=1)+dlmModSeas(frequency=4)\n",
    "    V(mod) <- exp(par[1])\n",
    "    diag(W(mod))[1:2] <- exp(par[2:3])\n",
    "    m0(mod) <- c(20,0,0,0)\n",
    "    return(mod)\n",
    "}\n",
    "dlm.mle4 <- dlmMLE(Y,parm=rep(0,3),build=dlm.build4)\n",
    "dlm.mod4 <- dlm.build4(dlm.mle4$par)"
   ]
  },
  {
   "cell_type": "code",
   "execution_count": 4,
   "metadata": {
    "vscode": {
     "languageId": "r"
    }
   },
   "outputs": [
    {
     "data": {
      "text/html": [
       "<table class=\"dataframe\">\n",
       "<caption>A matrix: 1 × 4 of type dbl</caption>\n",
       "<tbody>\n",
       "\t<tr><td>1</td><td>1</td><td>0</td><td>0</td></tr>\n",
       "</tbody>\n",
       "</table>\n"
      ],
      "text/latex": [
       "A matrix: 1 × 4 of type dbl\n",
       "\\begin{tabular}{llll}\n",
       "\t 1 & 1 & 0 & 0\\\\\n",
       "\\end{tabular}\n"
      ],
      "text/markdown": [
       "\n",
       "A matrix: 1 × 4 of type dbl\n",
       "\n",
       "| 1 | 1 | 0 | 0 |\n",
       "\n"
      ],
      "text/plain": [
       "     [,1] [,2] [,3] [,4]\n",
       "[1,] 1    1    0    0   "
      ]
     },
     "metadata": {},
     "output_type": "display_data"
    }
   ],
   "source": [
    "FF(dlm.mod4)"
   ]
  },
  {
   "cell_type": "code",
   "execution_count": 5,
   "metadata": {
    "vscode": {
     "languageId": "r"
    }
   },
   "outputs": [
    {
     "data": {
      "text/html": [
       "<table class=\"dataframe\">\n",
       "<caption>A matrix: 4 × 4 of type dbl</caption>\n",
       "<tbody>\n",
       "\t<tr><td>1</td><td> 0</td><td> 0</td><td> 0</td></tr>\n",
       "\t<tr><td>0</td><td>-1</td><td>-1</td><td>-1</td></tr>\n",
       "\t<tr><td>0</td><td> 1</td><td> 0</td><td> 0</td></tr>\n",
       "\t<tr><td>0</td><td> 0</td><td> 1</td><td> 0</td></tr>\n",
       "</tbody>\n",
       "</table>\n"
      ],
      "text/latex": [
       "A matrix: 4 × 4 of type dbl\n",
       "\\begin{tabular}{llll}\n",
       "\t 1 &  0 &  0 &  0\\\\\n",
       "\t 0 & -1 & -1 & -1\\\\\n",
       "\t 0 &  1 &  0 &  0\\\\\n",
       "\t 0 &  0 &  1 &  0\\\\\n",
       "\\end{tabular}\n"
      ],
      "text/markdown": [
       "\n",
       "A matrix: 4 × 4 of type dbl\n",
       "\n",
       "| 1 |  0 |  0 |  0 |\n",
       "| 0 | -1 | -1 | -1 |\n",
       "| 0 |  1 |  0 |  0 |\n",
       "| 0 |  0 |  1 |  0 |\n",
       "\n"
      ],
      "text/plain": [
       "     [,1] [,2] [,3] [,4]\n",
       "[1,] 1     0    0    0  \n",
       "[2,] 0    -1   -1   -1  \n",
       "[3,] 0     1    0    0  \n",
       "[4,] 0     0    1    0  "
      ]
     },
     "metadata": {},
     "output_type": "display_data"
    }
   ],
   "source": [
    "GG(dlm.mod4)"
   ]
  },
  {
   "cell_type": "code",
   "execution_count": 6,
   "metadata": {
    "vscode": {
     "languageId": "r"
    }
   },
   "outputs": [
    {
     "data": {
      "text/html": [
       "<table class=\"dataframe\">\n",
       "<caption>A matrix: 1 × 1 of type dbl</caption>\n",
       "<tbody>\n",
       "\t<tr><td>4.402579e-07</td></tr>\n",
       "</tbody>\n",
       "</table>\n"
      ],
      "text/latex": [
       "A matrix: 1 × 1 of type dbl\n",
       "\\begin{tabular}{l}\n",
       "\t 4.402579e-07\\\\\n",
       "\\end{tabular}\n"
      ],
      "text/markdown": [
       "\n",
       "A matrix: 1 × 1 of type dbl\n",
       "\n",
       "| 4.402579e-07 |\n",
       "\n"
      ],
      "text/plain": [
       "     [,1]        \n",
       "[1,] 4.402579e-07"
      ]
     },
     "metadata": {},
     "output_type": "display_data"
    }
   ],
   "source": [
    "V(dlm.mod4)"
   ]
  },
  {
   "cell_type": "code",
   "execution_count": 7,
   "metadata": {
    "vscode": {
     "languageId": "r"
    }
   },
   "outputs": [
    {
     "data": {
      "text/html": [
       "<table class=\"dataframe\">\n",
       "<caption>A matrix: 4 × 4 of type dbl</caption>\n",
       "<tbody>\n",
       "\t<tr><td>0.4470163</td><td>0.0000000</td><td>0</td><td>0</td></tr>\n",
       "\t<tr><td>0.0000000</td><td>0.4115065</td><td>0</td><td>0</td></tr>\n",
       "\t<tr><td>0.0000000</td><td>0.0000000</td><td>0</td><td>0</td></tr>\n",
       "\t<tr><td>0.0000000</td><td>0.0000000</td><td>0</td><td>0</td></tr>\n",
       "</tbody>\n",
       "</table>\n"
      ],
      "text/latex": [
       "A matrix: 4 × 4 of type dbl\n",
       "\\begin{tabular}{llll}\n",
       "\t 0.4470163 & 0.0000000 & 0 & 0\\\\\n",
       "\t 0.0000000 & 0.4115065 & 0 & 0\\\\\n",
       "\t 0.0000000 & 0.0000000 & 0 & 0\\\\\n",
       "\t 0.0000000 & 0.0000000 & 0 & 0\\\\\n",
       "\\end{tabular}\n"
      ],
      "text/markdown": [
       "\n",
       "A matrix: 4 × 4 of type dbl\n",
       "\n",
       "| 0.4470163 | 0.0000000 | 0 | 0 |\n",
       "| 0.0000000 | 0.4115065 | 0 | 0 |\n",
       "| 0.0000000 | 0.0000000 | 0 | 0 |\n",
       "| 0.0000000 | 0.0000000 | 0 | 0 |\n",
       "\n"
      ],
      "text/plain": [
       "     [,1]      [,2]      [,3] [,4]\n",
       "[1,] 0.4470163 0.0000000 0    0   \n",
       "[2,] 0.0000000 0.4115065 0    0   \n",
       "[3,] 0.0000000 0.0000000 0    0   \n",
       "[4,] 0.0000000 0.0000000 0    0   "
      ]
     },
     "metadata": {},
     "output_type": "display_data"
    }
   ],
   "source": [
    "W(dlm.mod4)"
   ]
  },
  {
   "cell_type": "code",
   "execution_count": 8,
   "metadata": {
    "vscode": {
     "languageId": "r"
    }
   },
   "outputs": [
    {
     "data": {
      "text/html": [
       "68.4440956602261"
      ],
      "text/latex": [
       "68.4440956602261"
      ],
      "text/markdown": [
       "68.4440956602261"
      ],
      "text/plain": [
       "[1] 68.4441"
      ]
     },
     "metadata": {},
     "output_type": "display_data"
    }
   ],
   "source": [
    "dlmLL(Y,dlm.mod4)"
   ]
  },
  {
   "cell_type": "code",
   "execution_count": 9,
   "metadata": {
    "vscode": {
     "languageId": "r"
    }
   },
   "outputs": [],
   "source": [
    "dlm.fil4 <- dlmFilter(Y,dlm.mod4)\n",
    "dlm.for4 <- dlmForecast(dlm.fil4, nAhead=8)"
   ]
  },
  {
   "cell_type": "code",
   "execution_count": 10,
   "metadata": {
    "vscode": {
     "languageId": "r"
    }
   },
   "outputs": [
    {
     "data": {
      "text/html": [
       "<table class=\"dataframe\">\n",
       "<caption>A matrix: 3 × 1 of type dbl</caption>\n",
       "<tbody>\n",
       "\t<tr><td>24.01961</td></tr>\n",
       "\t<tr><td>32.72886</td></tr>\n",
       "\t<tr><td>20.71521</td></tr>\n",
       "</tbody>\n",
       "</table>\n"
      ],
      "text/latex": [
       "A matrix: 3 × 1 of type dbl\n",
       "\\begin{tabular}{l}\n",
       "\t 24.01961\\\\\n",
       "\t 32.72886\\\\\n",
       "\t 20.71521\\\\\n",
       "\\end{tabular}\n"
      ],
      "text/markdown": [
       "\n",
       "A matrix: 3 × 1 of type dbl\n",
       "\n",
       "| 24.01961 |\n",
       "| 32.72886 |\n",
       "| 20.71521 |\n",
       "\n"
      ],
      "text/plain": [
       "     [,1]    \n",
       "[1,] 24.01961\n",
       "[2,] 32.72886\n",
       "[3,] 20.71521"
      ]
     },
     "metadata": {},
     "output_type": "display_data"
    }
   ],
   "source": [
    "head(dlm.for4$f,3)"
   ]
  },
  {
   "cell_type": "code",
   "execution_count": 11,
   "metadata": {
    "vscode": {
     "languageId": "r"
    }
   },
   "outputs": [
    {
     "data": {
      "text/html": [
       "<table class=\"dataframe\">\n",
       "<caption>A matrix: 3 × 4 of type dbl</caption>\n",
       "<tbody>\n",
       "\t<tr><td>25.08242</td><td>-1.062813</td><td>-2.216420</td><td>-4.367209</td></tr>\n",
       "\t<tr><td>25.08242</td><td> 7.646442</td><td>-1.062813</td><td>-2.216420</td></tr>\n",
       "\t<tr><td>25.08242</td><td>-4.367209</td><td> 7.646442</td><td>-1.062813</td></tr>\n",
       "</tbody>\n",
       "</table>\n"
      ],
      "text/latex": [
       "A matrix: 3 × 4 of type dbl\n",
       "\\begin{tabular}{llll}\n",
       "\t 25.08242 & -1.062813 & -2.216420 & -4.367209\\\\\n",
       "\t 25.08242 &  7.646442 & -1.062813 & -2.216420\\\\\n",
       "\t 25.08242 & -4.367209 &  7.646442 & -1.062813\\\\\n",
       "\\end{tabular}\n"
      ],
      "text/markdown": [
       "\n",
       "A matrix: 3 × 4 of type dbl\n",
       "\n",
       "| 25.08242 | -1.062813 | -2.216420 | -4.367209 |\n",
       "| 25.08242 |  7.646442 | -1.062813 | -2.216420 |\n",
       "| 25.08242 | -4.367209 |  7.646442 | -1.062813 |\n",
       "\n"
      ],
      "text/plain": [
       "     [,1]     [,2]      [,3]      [,4]     \n",
       "[1,] 25.08242 -1.062813 -2.216420 -4.367209\n",
       "[2,] 25.08242  7.646442 -1.062813 -2.216420\n",
       "[3,] 25.08242 -4.367209  7.646442 -1.062813"
      ]
     },
     "metadata": {},
     "output_type": "display_data"
    }
   ],
   "source": [
    "head(dlm.for4$a,3)"
   ]
  },
  {
   "cell_type": "code",
   "execution_count": 12,
   "metadata": {
    "vscode": {
     "languageId": "r"
    }
   },
   "outputs": [
    {
     "data": {
      "text/html": [
       "<style>\n",
       ".list-inline {list-style: none; margin:0; padding: 0}\n",
       ".list-inline>li {display: inline-block}\n",
       ".list-inline>li:not(:last-child)::after {content: \"\\00b7\"; padding: 0 .5ex}\n",
       "</style>\n",
       "<ol class=list-inline><li>2.07753767641546</li><li>2.22619732701096</li><li>2.51489609872932</li><li>2.61107903007148</li><li>4.68861582597115</li><li>4.83727547656666</li></ol>\n"
      ],
      "text/latex": [
       "\\begin{enumerate*}\n",
       "\\item 2.07753767641546\n",
       "\\item 2.22619732701096\n",
       "\\item 2.51489609872932\n",
       "\\item 2.61107903007148\n",
       "\\item 4.68861582597115\n",
       "\\item 4.83727547656666\n",
       "\\end{enumerate*}\n"
      ],
      "text/markdown": [
       "1. 2.07753767641546\n",
       "2. 2.22619732701096\n",
       "3. 2.51489609872932\n",
       "4. 2.61107903007148\n",
       "5. 4.68861582597115\n",
       "6. 4.83727547656666\n",
       "\n",
       "\n"
      ],
      "text/plain": [
       "[1] 2.077538 2.226197 2.514896 2.611079 4.688616 4.837275"
      ]
     },
     "metadata": {},
     "output_type": "display_data"
    }
   ],
   "source": [
    "head(unlist(dlm.for4$Q))"
   ]
  },
  {
   "cell_type": "code",
   "execution_count": 13,
   "metadata": {
    "vscode": {
     "languageId": "r"
    }
   },
   "outputs": [],
   "source": [
    "## TODO 図2のプロット #7"
   ]
  }
 ],
 "metadata": {
  "kernelspec": {
   "display_name": "R",
   "language": "R",
   "name": "ir"
  },
  "language_info": {
   "codemirror_mode": "r",
   "file_extension": ".r",
   "mimetype": "text/x-r-source",
   "name": "R",
   "pygments_lexer": "r",
   "version": "4.2.1"
  },
  "orig_nbformat": 4,
  "vscode": {
   "interpreter": {
    "hash": "aee8b7b246df8f9039afb4144a1f6fd8d2ca17a180786b69acc140d282b71a49"
   }
  }
 },
 "nbformat": 4,
 "nbformat_minor": 2
}
